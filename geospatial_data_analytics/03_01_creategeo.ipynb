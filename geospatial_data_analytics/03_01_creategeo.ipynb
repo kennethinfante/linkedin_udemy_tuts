{
 "cells": [
  {
   "cell_type": "markdown",
   "id": "auburn-henry",
   "metadata": {},
   "source": [
    "# Creating our first GeoDataFrame from scratch"
   ]
  },
  {
   "cell_type": "markdown",
   "id": "stuffed-render",
   "metadata": {},
   "source": [
    "#### Input geometries"
   ]
  },
  {
   "cell_type": "code",
   "execution_count": 1,
   "id": "bound-bulgaria",
   "metadata": {},
   "outputs": [],
   "source": [
    "from shapely.geometry import Point, LineString, Polygon, MultiPolygon"
   ]
  },
  {
   "cell_type": "code",
   "execution_count": 2,
   "id": "ahead-botswana",
   "metadata": {},
   "outputs": [
    {
     "data": {
      "image/svg+xml": [
       "<svg xmlns=\"http://www.w3.org/2000/svg\" xmlns:xlink=\"http://www.w3.org/1999/xlink\" width=\"100.0\" height=\"100.0\" viewBox=\"-1.0 -1.0 2.0 2.0\" preserveAspectRatio=\"xMinYMin meet\"><g transform=\"matrix(1,0,0,-1,0,0.0)\"><circle cx=\"0.0\" cy=\"0.0\" r=\"0.06\" stroke=\"#555555\" stroke-width=\"0.02\" fill=\"#66cc99\" opacity=\"0.6\" /></g></svg>"
      ],
      "text/plain": [
       "<POINT (0 0)>"
      ]
     },
     "execution_count": 2,
     "metadata": {},
     "output_type": "execute_result"
    }
   ],
   "source": [
    "point = Point(0, 0)\n",
    "point"
   ]
  },
  {
   "cell_type": "code",
   "execution_count": 3,
   "id": "overhead-treasury",
   "metadata": {},
   "outputs": [
    {
     "data": {
      "image/svg+xml": [
       "<svg xmlns=\"http://www.w3.org/2000/svg\" xmlns:xlink=\"http://www.w3.org/1999/xlink\" width=\"100.0\" height=\"100.0\" viewBox=\"0.46 0.46 1.08 1.08\" preserveAspectRatio=\"xMinYMin meet\"><g transform=\"matrix(1,0,0,-1,0,2.0)\"><path fill-rule=\"evenodd\" fill=\"#66cc99\" stroke=\"#555555\" stroke-width=\"0.0216\" opacity=\"0.6\" d=\"M 1.5,1.0 L 1.4975923633360986,0.9509914298352197 L 1.4903926402016152,0.9024548389919359 L 1.4784701678661043,0.8548576613727689 L 1.4619397662556435,0.8086582838174551 L 1.4409606321741775,0.7643016315870012 L 1.4157348061512727,0.7222148834901989 L 1.3865052266813684,0.6828033579181773 L 1.3535533905932737,0.6464466094067263 L 1.3171966420818229,0.6134947733186316 L 1.277785116509801,0.5842651938487273 L 1.235698368412999,0.5590393678258225 L 1.1913417161825448,0.5380602337443566 L 1.1451423386272312,0.5215298321338955 L 1.0975451610080642,0.5096073597983848 L 1.0490085701647804,0.5024076366639016 L 1.0,0.5 L 0.9509914298352197,0.5024076366639015 L 0.9024548389919359,0.5096073597983848 L 0.854857661372769,0.5215298321338955 L 0.8086582838174552,0.5380602337443566 L 0.7643016315870012,0.5590393678258225 L 0.722214883490199,0.5842651938487273 L 0.6828033579181774,0.6134947733186314 L 0.6464466094067263,0.6464466094067263 L 0.6134947733186316,0.6828033579181773 L 0.5842651938487273,0.7222148834901989 L 0.5590393678258225,0.764301631587001 L 0.5380602337443566,0.8086582838174551 L 0.5215298321338956,0.8548576613727688 L 0.5096073597983848,0.9024548389919357 L 0.5024076366639016,0.9509914298352196 L 0.5,0.9999999999999999 L 0.5024076366639015,1.0490085701647802 L 0.5096073597983848,1.0975451610080642 L 0.5215298321338955,1.145142338627231 L 0.5380602337443565,1.1913417161825448 L 0.5590393678258225,1.2356983684129987 L 0.5842651938487273,1.277785116509801 L 0.6134947733186314,1.3171966420818226 L 0.6464466094067262,1.3535533905932737 L 0.682803357918177,1.3865052266813684 L 0.7222148834901989,1.4157348061512727 L 0.764301631587001,1.4409606321741775 L 0.8086582838174549,1.4619397662556433 L 0.8548576613727688,1.4784701678661043 L 0.9024548389919357,1.4903926402016152 L 0.9509914298352198,1.4975923633360986 L 0.9999999999999999,1.5 L 1.04900857016478,1.4975923633360986 L 1.0975451610080642,1.4903926402016152 L 1.145142338627231,1.4784701678661045 L 1.191341716182545,1.4619397662556433 L 1.2356983684129987,1.4409606321741775 L 1.2777851165098009,1.4157348061512727 L 1.3171966420818229,1.3865052266813684 L 1.3535533905932737,1.353553390593274 L 1.3865052266813682,1.3171966420818229 L 1.4157348061512727,1.277785116509801 L 1.4409606321741775,1.235698368412999 L 1.4619397662556433,1.1913417161825453 L 1.4784701678661043,1.1451423386272312 L 1.4903926402016152,1.0975451610080644 L 1.4975923633360986,1.0490085701647802 L 1.5,1.0 z\" /></g></svg>"
      ],
      "text/plain": [
       "<POLYGON ((1.5 1, 1.498 0.951, 1.49 0.902, 1.478 0.855, 1.462 0.809, 1.441 0...>"
      ]
     },
     "execution_count": 3,
     "metadata": {},
     "output_type": "execute_result"
    }
   ],
   "source": [
    "circle = Point(1, 1).buffer(0.5)\n",
    "circle"
   ]
  },
  {
   "cell_type": "code",
   "execution_count": 4,
   "id": "chubby-friendly",
   "metadata": {},
   "outputs": [
    {
     "data": {
      "image/svg+xml": [
       "<svg xmlns=\"http://www.w3.org/2000/svg\" xmlns:xlink=\"http://www.w3.org/1999/xlink\" width=\"100.0\" height=\"100.0\" viewBox=\"1.8 1.8 5.4 3.4000000000000004\" preserveAspectRatio=\"xMinYMin meet\"><g transform=\"matrix(1,0,0,-1,0,7.0)\"><polyline fill=\"none\" stroke=\"#66cc99\" stroke-width=\"0.10800000000000001\" points=\"2.0,2.0 3.5,4.0 7.0,5.0\" opacity=\"0.8\" /></g></svg>"
      ],
      "text/plain": [
       "<LINESTRING (2 2, 3.5 4, 7 5)>"
      ]
     },
     "execution_count": 4,
     "metadata": {},
     "output_type": "execute_result"
    }
   ],
   "source": [
    "line = LineString([(2,2), (3.5,4), (7,5)])\n",
    "line"
   ]
  },
  {
   "cell_type": "code",
   "execution_count": 5,
   "id": "conventional-ukraine",
   "metadata": {},
   "outputs": [
    {
     "data": {
      "image/svg+xml": [
       "<svg xmlns=\"http://www.w3.org/2000/svg\" xmlns:xlink=\"http://www.w3.org/1999/xlink\" width=\"100.0\" height=\"100.0\" viewBox=\"2.96 -0.04 1.08 1.08\" preserveAspectRatio=\"xMinYMin meet\"><g transform=\"matrix(1,0,0,-1,0,1.0)\"><path fill-rule=\"evenodd\" fill=\"#66cc99\" stroke=\"#555555\" stroke-width=\"0.0216\" opacity=\"0.6\" d=\"M 3.0,0.0 L 3.0,1.0 L 4.0,1.0 L 4.0,0.0 L 3.0,0.0 z\" /></g></svg>"
      ],
      "text/plain": [
       "<POLYGON ((3 0, 3 1, 4 1, 4 0, 3 0))>"
      ]
     },
     "execution_count": 5,
     "metadata": {},
     "output_type": "execute_result"
    }
   ],
   "source": [
    "square = Polygon([(3, 0), (3, 1), (4, 1), (4, 0)])\n",
    "square"
   ]
  },
  {
   "cell_type": "code",
   "execution_count": 6,
   "id": "packed-russell",
   "metadata": {},
   "outputs": [
    {
     "data": {
      "image/svg+xml": [
       "<svg xmlns=\"http://www.w3.org/2000/svg\" xmlns:xlink=\"http://www.w3.org/1999/xlink\" width=\"100.0\" height=\"100.0\" viewBox=\"1.8 3.3 5.4 3.4000000000000004\" preserveAspectRatio=\"xMinYMin meet\"><g transform=\"matrix(1,0,0,-1,0,10.0)\"><path fill-rule=\"evenodd\" fill=\"#66cc99\" stroke=\"#555555\" stroke-width=\"0.10800000000000001\" opacity=\"0.6\" d=\"M 2.0,3.5 L 3.5,5.5 L 7.0,6.5 L 2.0,3.5 z\" /></g></svg>"
      ],
      "text/plain": [
       "<POLYGON ((2 3.5, 3.5 5.5, 7 6.5, 2 3.5))>"
      ]
     },
     "execution_count": 6,
     "metadata": {},
     "output_type": "execute_result"
    }
   ],
   "source": [
    "triangle = LineString([(2,2+1.5), (3.5,4+1.5), (7,5+1.5)]).convex_hull\n",
    "triangle"
   ]
  },
  {
   "cell_type": "markdown",
   "id": "assured-treasurer",
   "metadata": {},
   "source": [
    "#### Creating a GeoDataFrame"
   ]
  },
  {
   "cell_type": "code",
   "execution_count": 7,
   "id": "protecting-sending",
   "metadata": {},
   "outputs": [
    {
     "data": {
      "text/plain": [
       "dict_keys(['point', 'circle', 'line', 'square', 'triangle'])"
      ]
     },
     "execution_count": 7,
     "metadata": {},
     "output_type": "execute_result"
    }
   ],
   "source": [
    "geo_data = {'point' : point, \n",
    "            'circle' : circle,\n",
    "            'line' : line,\n",
    "            'square' : square,\n",
    "            'triangle' : triangle}\n",
    "\n",
    "geo_data.keys()"
   ]
  },
  {
   "cell_type": "code",
   "execution_count": 8,
   "id": "played-laser",
   "metadata": {},
   "outputs": [
    {
     "data": {
      "text/plain": [
       "dict_values([<POINT (0 0)>, <POLYGON ((1.5 1, 1.498 0.951, 1.49 0.902, 1.478 0.855, 1.462 0.809, 1.441 0...>, <LINESTRING (2 2, 3.5 4, 7 5)>, <POLYGON ((3 0, 3 1, 4 1, 4 0, 3 0))>, <POLYGON ((2 3.5, 3.5 5.5, 7 6.5, 2 3.5))>])"
      ]
     },
     "execution_count": 8,
     "metadata": {},
     "output_type": "execute_result"
    }
   ],
   "source": [
    "geo_data.values()"
   ]
  },
  {
   "cell_type": "code",
   "execution_count": 9,
   "id": "figured-capital",
   "metadata": {},
   "outputs": [],
   "source": [
    "import geopandas as gpd"
   ]
  },
  {
   "cell_type": "code",
   "execution_count": 10,
   "id": "copyrighted-pittsburgh",
   "metadata": {},
   "outputs": [
    {
     "data": {
      "text/html": [
       "<div>\n",
       "<style scoped>\n",
       "    .dataframe tbody tr th:only-of-type {\n",
       "        vertical-align: middle;\n",
       "    }\n",
       "\n",
       "    .dataframe tbody tr th {\n",
       "        vertical-align: top;\n",
       "    }\n",
       "\n",
       "    .dataframe thead th {\n",
       "        text-align: right;\n",
       "    }\n",
       "</style>\n",
       "<table border=\"1\" class=\"dataframe\">\n",
       "  <thead>\n",
       "    <tr style=\"text-align: right;\">\n",
       "      <th></th>\n",
       "      <th>geo_name</th>\n",
       "      <th>geometry</th>\n",
       "    </tr>\n",
       "  </thead>\n",
       "  <tbody>\n",
       "    <tr>\n",
       "      <th>0</th>\n",
       "      <td>point</td>\n",
       "      <td>POINT (0 0)</td>\n",
       "    </tr>\n",
       "    <tr>\n",
       "      <th>1</th>\n",
       "      <td>circle</td>\n",
       "      <td>POLYGON ((1.5 1, 1.49759 0.95099, 1.49039 0.90...</td>\n",
       "    </tr>\n",
       "    <tr>\n",
       "      <th>2</th>\n",
       "      <td>line</td>\n",
       "      <td>LINESTRING (2 2, 3.5 4, 7 5)</td>\n",
       "    </tr>\n",
       "    <tr>\n",
       "      <th>3</th>\n",
       "      <td>square</td>\n",
       "      <td>POLYGON ((3 0, 3 1, 4 1, 4 0, 3 0))</td>\n",
       "    </tr>\n",
       "    <tr>\n",
       "      <th>4</th>\n",
       "      <td>triangle</td>\n",
       "      <td>POLYGON ((2 3.5, 3.5 5.5, 7 6.5, 2 3.5))</td>\n",
       "    </tr>\n",
       "  </tbody>\n",
       "</table>\n",
       "</div>"
      ],
      "text/plain": [
       "   geo_name                                           geometry\n",
       "0     point                                        POINT (0 0)\n",
       "1    circle  POLYGON ((1.5 1, 1.49759 0.95099, 1.49039 0.90...\n",
       "2      line                       LINESTRING (2 2, 3.5 4, 7 5)\n",
       "3    square                POLYGON ((3 0, 3 1, 4 1, 4 0, 3 0))\n",
       "4  triangle           POLYGON ((2 3.5, 3.5 5.5, 7 6.5, 2 3.5))"
      ]
     },
     "execution_count": 10,
     "metadata": {},
     "output_type": "execute_result"
    }
   ],
   "source": [
    "gdf = gpd.GeoDataFrame(geo_data.items(), columns = ['geo_name', 'geometry'])\n",
    "gdf"
   ]
  },
  {
   "cell_type": "code",
   "execution_count": 11,
   "id": "medical-cover",
   "metadata": {},
   "outputs": [
    {
     "data": {
      "text/plain": [
       "geopandas.geodataframe.GeoDataFrame"
      ]
     },
     "execution_count": 11,
     "metadata": {},
     "output_type": "execute_result"
    }
   ],
   "source": [
    "type(gdf)"
   ]
  },
  {
   "cell_type": "code",
   "execution_count": null,
   "id": "1d55f00d-a39d-42e3-997e-d9d7d5275253",
   "metadata": {},
   "outputs": [],
   "source": []
  }
 ],
 "metadata": {
  "kernelspec": {
   "display_name": "Python 3 (ipykernel)",
   "language": "python",
   "name": "python3"
  },
  "language_info": {
   "codemirror_mode": {
    "name": "ipython",
    "version": 3
   },
   "file_extension": ".py",
   "mimetype": "text/x-python",
   "name": "python",
   "nbconvert_exporter": "python",
   "pygments_lexer": "ipython3",
   "version": "3.9.13"
  }
 },
 "nbformat": 4,
 "nbformat_minor": 5
}
