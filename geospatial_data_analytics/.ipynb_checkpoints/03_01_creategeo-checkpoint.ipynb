{
 "cells": [
  {
   "cell_type": "markdown",
   "id": "auburn-henry",
   "metadata": {},
   "source": [
    "# Creating our first GeoDataFrame from scratch"
   ]
  },
  {
   "cell_type": "markdown",
   "id": "stuffed-render",
   "metadata": {},
   "source": [
    "#### Input geometries"
   ]
  },
  {
   "cell_type": "code",
   "execution_count": null,
   "id": "bound-bulgaria",
   "metadata": {},
   "outputs": [],
   "source": [
    "from shapely.geometry import Point, LineString, Polygon, MultiPolygon"
   ]
  },
  {
   "cell_type": "code",
   "execution_count": null,
   "id": "ahead-botswana",
   "metadata": {},
   "outputs": [],
   "source": [
    "point = Point(0, 0)\n",
    "point"
   ]
  },
  {
   "cell_type": "code",
   "execution_count": null,
   "id": "overhead-treasury",
   "metadata": {},
   "outputs": [],
   "source": [
    "circle = Point(1, 1).buffer(0.5)\n",
    "circle"
   ]
  },
  {
   "cell_type": "code",
   "execution_count": null,
   "id": "chubby-friendly",
   "metadata": {},
   "outputs": [],
   "source": [
    "line = LineString([(2,2), (3.5,4), (7,5)])\n",
    "line"
   ]
  },
  {
   "cell_type": "code",
   "execution_count": null,
   "id": "conventional-ukraine",
   "metadata": {},
   "outputs": [],
   "source": [
    "square = Polygon([(3, 0), (3, 1), (4, 1), (4, 0)])\n",
    "square"
   ]
  },
  {
   "cell_type": "code",
   "execution_count": null,
   "id": "packed-russell",
   "metadata": {},
   "outputs": [],
   "source": [
    "triangle = LineString([(2,2+1.5), (3.5,4+1.5), (7,5+1.5)]).convex_hull\n",
    "triangle"
   ]
  },
  {
   "cell_type": "markdown",
   "id": "assured-treasurer",
   "metadata": {},
   "source": [
    "#### Creating a GeoDataFrame"
   ]
  },
  {
   "cell_type": "code",
   "execution_count": null,
   "id": "protecting-sending",
   "metadata": {},
   "outputs": [],
   "source": [
    "geo_data = {'point' : point, \n",
    "            'circle' : circle,\n",
    "            'line' : line,\n",
    "            'square' : square,\n",
    "            'triangle' : triangle}\n",
    "\n",
    "geo_data.keys()"
   ]
  },
  {
   "cell_type": "code",
   "execution_count": null,
   "id": "played-laser",
   "metadata": {},
   "outputs": [],
   "source": [
    "geo_data.values()"
   ]
  },
  {
   "cell_type": "code",
   "execution_count": null,
   "id": "figured-capital",
   "metadata": {},
   "outputs": [],
   "source": [
    "import geopandas as gpd"
   ]
  },
  {
   "cell_type": "code",
   "execution_count": null,
   "id": "copyrighted-pittsburgh",
   "metadata": {},
   "outputs": [],
   "source": [
    "gdf = gpd.GeoDataFrame(geo_data.items(), columns = ['geo_name', 'geometry'])\n",
    "gdf"
   ]
  },
  {
   "cell_type": "code",
   "execution_count": null,
   "id": "medical-cover",
   "metadata": {},
   "outputs": [],
   "source": [
    "type(gdf)"
   ]
  }
 ],
 "metadata": {
  "kernelspec": {
   "display_name": "Python 3",
   "language": "python",
   "name": "python3"
  },
  "language_info": {
   "codemirror_mode": {
    "name": "ipython",
    "version": 3
   },
   "file_extension": ".py",
   "mimetype": "text/x-python",
   "name": "python",
   "nbconvert_exporter": "python",
   "pygments_lexer": "ipython3",
   "version": "3.9.6"
  }
 },
 "nbformat": 4,
 "nbformat_minor": 5
}
