{
 "cells": [
  {
   "cell_type": "markdown",
   "id": "unable-programmer",
   "metadata": {},
   "source": [
    "# Explore the administrative boundaries of the NYC neighborhoods"
   ]
  },
  {
   "cell_type": "code",
   "execution_count": null,
   "id": "alpine-concentration",
   "metadata": {},
   "outputs": [],
   "source": [
    "import geopandas as gpd"
   ]
  },
  {
   "cell_type": "code",
   "execution_count": null,
   "id": "unexpected-football",
   "metadata": {},
   "outputs": [],
   "source": [
    "file_name = '2010 Neighborhood Tabulation Areas (NTAs).geojson'"
   ]
  },
  {
   "cell_type": "code",
   "execution_count": null,
   "id": "academic-belgium",
   "metadata": {},
   "outputs": [],
   "source": [
    "gdf = gpd.read_file(file_name)\n",
    "print(len(gdf))\n",
    "gdf.head(10)"
   ]
  },
  {
   "cell_type": "code",
   "execution_count": null,
   "id": "retained-trailer",
   "metadata": {},
   "outputs": [],
   "source": [
    "gdf.crs"
   ]
  },
  {
   "cell_type": "code",
   "execution_count": null,
   "id": "57d8ce3c",
   "metadata": {},
   "outputs": [],
   "source": [
    "gdf.plot"
   ]
  },
  {
   "cell_type": "code",
   "execution_count": null,
   "id": "e068983d",
   "metadata": {},
   "outputs": [],
   "source": [
    "gdf.shape_area.hist()"
   ]
  },
  {
   "cell_type": "code",
   "execution_count": null,
   "id": "eb1349ee",
   "metadata": {},
   "outputs": [],
   "source": [
    "gdf.shape_area.to_list()[0]"
   ]
  },
  {
   "cell_type": "code",
   "execution_count": null,
   "id": "62cfade2",
   "metadata": {},
   "outputs": [],
   "source": [
    "print(type(gdf.shape_area.to_list()[0]))"
   ]
  },
  {
   "cell_type": "code",
   "execution_count": null,
   "id": "9c8cf9de",
   "metadata": {},
   "outputs": [],
   "source": [
    "gdf['shape_area'] = gdf['shape_area'].astype(float)\n",
    "gdf['shape_leng'] = gdf['shape_leng'].astype(float)"
   ]
  },
  {
   "cell_type": "code",
   "execution_count": null,
   "id": "e4e83fd1",
   "metadata": {},
   "outputs": [],
   "source": [
    "gdf.shape_area.to_list()[0]"
   ]
  },
  {
   "cell_type": "code",
   "execution_count": null,
   "id": "5a3cdafc",
   "metadata": {},
   "outputs": [],
   "source": [
    "print(type(gdf.shape_area.to_list()[0]))"
   ]
  },
  {
   "cell_type": "code",
   "execution_count": null,
   "id": "2d8abf8f",
   "metadata": {},
   "outputs": [],
   "source": [
    "import matplotlib.pyplot as plt\n",
    "\n",
    "f, ax = plt.subplots(1,2,figsize=(10,5))\n",
    "gdf.shape_area.hist(ax=ax[0], bins = 20)\n",
    "gdf.shape_leng.hist(ax=ax[1], bins = 20)\n",
    "ax[0].set_yscale('log')\n",
    "ax[1].set_yscale('log')\n",
    "\n",
    "ax[0].set_title('NYC neighborhood areas', fontsize = 14, pad = 16)\n",
    "ax[1].set_title('NYC neighborhood length', fontsize = 14, pad = 16)\n"
   ]
  }
 ],
 "metadata": {
  "kernelspec": {
   "display_name": "Python 3",
   "language": "python",
   "name": "python3"
  },
  "language_info": {
   "codemirror_mode": {
    "name": "ipython",
    "version": 3
   },
   "file_extension": ".py",
   "mimetype": "text/x-python",
   "name": "python",
   "nbconvert_exporter": "python",
   "pygments_lexer": "ipython3",
   "version": "3.9.6"
  }
 },
 "nbformat": 4,
 "nbformat_minor": 5
}
