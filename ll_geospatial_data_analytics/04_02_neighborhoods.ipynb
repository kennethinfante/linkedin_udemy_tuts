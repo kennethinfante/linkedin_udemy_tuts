{
 "cells": [
  {
   "cell_type": "markdown",
   "id": "unable-programmer",
   "metadata": {},
   "source": [
    "# Explore the administrative boundaries of the NYC neighborhoods"
   ]
  },
  {
   "cell_type": "code",
   "execution_count": 1,
   "id": "alpine-concentration",
   "metadata": {},
   "outputs": [],
   "source": [
    "import geopandas as gpd"
   ]
  },
  {
   "cell_type": "code",
   "execution_count": 2,
   "id": "unexpected-football",
   "metadata": {},
   "outputs": [],
   "source": [
    "file_name = '2010 Neighborhood Tabulation Areas (NTAs).geojson'"
   ]
  },
  {
   "cell_type": "code",
   "execution_count": 3,
   "id": "academic-belgium",
   "metadata": {},
   "outputs": [
    {
     "name": "stdout",
     "output_type": "stream",
     "text": [
      "195\n"
     ]
    },
    {
     "data": {
      "text/html": [
       "<div>\n",
       "<style scoped>\n",
       "    .dataframe tbody tr th:only-of-type {\n",
       "        vertical-align: middle;\n",
       "    }\n",
       "\n",
       "    .dataframe tbody tr th {\n",
       "        vertical-align: top;\n",
       "    }\n",
       "\n",
       "    .dataframe thead th {\n",
       "        text-align: right;\n",
       "    }\n",
       "</style>\n",
       "<table border=\"1\" class=\"dataframe\">\n",
       "  <thead>\n",
       "    <tr style=\"text-align: right;\">\n",
       "      <th></th>\n",
       "      <th>ntacode</th>\n",
       "      <th>shape_area</th>\n",
       "      <th>county_fips</th>\n",
       "      <th>ntaname</th>\n",
       "      <th>shape_leng</th>\n",
       "      <th>boro_name</th>\n",
       "      <th>boro_code</th>\n",
       "      <th>geometry</th>\n",
       "    </tr>\n",
       "  </thead>\n",
       "  <tbody>\n",
       "    <tr>\n",
       "      <th>0</th>\n",
       "      <td>QN08</td>\n",
       "      <td>77412747.756</td>\n",
       "      <td>081</td>\n",
       "      <td>St. Albans</td>\n",
       "      <td>45401.3169155</td>\n",
       "      <td>Queens</td>\n",
       "      <td>4</td>\n",
       "      <td>MULTIPOLYGON (((-73.75205 40.70523, -73.75174 ...</td>\n",
       "    </tr>\n",
       "    <tr>\n",
       "      <th>1</th>\n",
       "      <td>BK50</td>\n",
       "      <td>82089678.5561</td>\n",
       "      <td>047</td>\n",
       "      <td>Canarsie</td>\n",
       "      <td>43703.6099368</td>\n",
       "      <td>Brooklyn</td>\n",
       "      <td>3</td>\n",
       "      <td>MULTIPOLYGON (((-73.88834 40.64671, -73.88835 ...</td>\n",
       "    </tr>\n",
       "    <tr>\n",
       "      <th>2</th>\n",
       "      <td>BX41</td>\n",
       "      <td>14716710.849</td>\n",
       "      <td>005</td>\n",
       "      <td>Mount Hope</td>\n",
       "      <td>18937.2480746</td>\n",
       "      <td>Bronx</td>\n",
       "      <td>2</td>\n",
       "      <td>MULTIPOLYGON (((-73.89561 40.85457, -73.89662 ...</td>\n",
       "    </tr>\n",
       "    <tr>\n",
       "      <th>3</th>\n",
       "      <td>BK68</td>\n",
       "      <td>16482821.6487</td>\n",
       "      <td>047</td>\n",
       "      <td>Fort Greene</td>\n",
       "      <td>19825.5208594</td>\n",
       "      <td>Brooklyn</td>\n",
       "      <td>3</td>\n",
       "      <td>MULTIPOLYGON (((-73.96939 40.69608, -73.96938 ...</td>\n",
       "    </tr>\n",
       "    <tr>\n",
       "      <th>4</th>\n",
       "      <td>QN38</td>\n",
       "      <td>38835920.1944</td>\n",
       "      <td>081</td>\n",
       "      <td>Pomonok-Flushing Heights-Hillcrest</td>\n",
       "      <td>30731.4196253</td>\n",
       "      <td>Queens</td>\n",
       "      <td>4</td>\n",
       "      <td>MULTIPOLYGON (((-73.7964 40.73828, -73.79639 4...</td>\n",
       "    </tr>\n",
       "    <tr>\n",
       "      <th>5</th>\n",
       "      <td>QN52</td>\n",
       "      <td>29453683.8069</td>\n",
       "      <td>081</td>\n",
       "      <td>East Flushing</td>\n",
       "      <td>25848.5455105</td>\n",
       "      <td>Queens</td>\n",
       "      <td>4</td>\n",
       "      <td>MULTIPOLYGON (((-73.79493 40.7578, -73.79475 4...</td>\n",
       "    </tr>\n",
       "    <tr>\n",
       "      <th>6</th>\n",
       "      <td>BK44</td>\n",
       "      <td>27379161.6062</td>\n",
       "      <td>047</td>\n",
       "      <td>Madison</td>\n",
       "      <td>26237.2579388</td>\n",
       "      <td>Brooklyn</td>\n",
       "      <td>3</td>\n",
       "      <td>MULTIPOLYGON (((-73.93754 40.60856, -73.9383 4...</td>\n",
       "    </tr>\n",
       "    <tr>\n",
       "      <th>7</th>\n",
       "      <td>QN01</td>\n",
       "      <td>39971928.8627</td>\n",
       "      <td>081</td>\n",
       "      <td>South Jamaica</td>\n",
       "      <td>32122.5522563</td>\n",
       "      <td>Queens</td>\n",
       "      <td>4</td>\n",
       "      <td>MULTIPOLYGON (((-73.77396 40.69981, -73.77446 ...</td>\n",
       "    </tr>\n",
       "    <tr>\n",
       "      <th>8</th>\n",
       "      <td>QN07</td>\n",
       "      <td>22887773.3849</td>\n",
       "      <td>081</td>\n",
       "      <td>Hollis</td>\n",
       "      <td>20976.3359208</td>\n",
       "      <td>Queens</td>\n",
       "      <td>4</td>\n",
       "      <td>MULTIPOLYGON (((-73.75726 40.71814, -73.75589 ...</td>\n",
       "    </tr>\n",
       "    <tr>\n",
       "      <th>9</th>\n",
       "      <td>BK77</td>\n",
       "      <td>24927927.3355</td>\n",
       "      <td>047</td>\n",
       "      <td>Bushwick North</td>\n",
       "      <td>26321.6271006</td>\n",
       "      <td>Brooklyn</td>\n",
       "      <td>3</td>\n",
       "      <td>MULTIPOLYGON (((-73.9014 40.69159, -73.90189 4...</td>\n",
       "    </tr>\n",
       "  </tbody>\n",
       "</table>\n",
       "</div>"
      ],
      "text/plain": [
       "  ntacode     shape_area county_fips                             ntaname  \\\n",
       "0    QN08   77412747.756         081                          St. Albans   \n",
       "1    BK50  82089678.5561         047                            Canarsie   \n",
       "2    BX41   14716710.849         005                          Mount Hope   \n",
       "3    BK68  16482821.6487         047                         Fort Greene   \n",
       "4    QN38  38835920.1944         081  Pomonok-Flushing Heights-Hillcrest   \n",
       "5    QN52  29453683.8069         081                       East Flushing   \n",
       "6    BK44  27379161.6062         047                             Madison   \n",
       "7    QN01  39971928.8627         081                       South Jamaica   \n",
       "8    QN07  22887773.3849         081                              Hollis   \n",
       "9    BK77  24927927.3355         047                      Bushwick North   \n",
       "\n",
       "      shape_leng boro_name boro_code  \\\n",
       "0  45401.3169155    Queens         4   \n",
       "1  43703.6099368  Brooklyn         3   \n",
       "2  18937.2480746     Bronx         2   \n",
       "3  19825.5208594  Brooklyn         3   \n",
       "4  30731.4196253    Queens         4   \n",
       "5  25848.5455105    Queens         4   \n",
       "6  26237.2579388  Brooklyn         3   \n",
       "7  32122.5522563    Queens         4   \n",
       "8  20976.3359208    Queens         4   \n",
       "9  26321.6271006  Brooklyn         3   \n",
       "\n",
       "                                            geometry  \n",
       "0  MULTIPOLYGON (((-73.75205 40.70523, -73.75174 ...  \n",
       "1  MULTIPOLYGON (((-73.88834 40.64671, -73.88835 ...  \n",
       "2  MULTIPOLYGON (((-73.89561 40.85457, -73.89662 ...  \n",
       "3  MULTIPOLYGON (((-73.96939 40.69608, -73.96938 ...  \n",
       "4  MULTIPOLYGON (((-73.7964 40.73828, -73.79639 4...  \n",
       "5  MULTIPOLYGON (((-73.79493 40.7578, -73.79475 4...  \n",
       "6  MULTIPOLYGON (((-73.93754 40.60856, -73.9383 4...  \n",
       "7  MULTIPOLYGON (((-73.77396 40.69981, -73.77446 ...  \n",
       "8  MULTIPOLYGON (((-73.75726 40.71814, -73.75589 ...  \n",
       "9  MULTIPOLYGON (((-73.9014 40.69159, -73.90189 4...  "
      ]
     },
     "execution_count": 3,
     "metadata": {},
     "output_type": "execute_result"
    }
   ],
   "source": [
    "gdf = gpd.read_file(file_name)\n",
    "print(len(gdf))\n",
    "gdf.head(10)"
   ]
  },
  {
   "cell_type": "code",
   "execution_count": 4,
   "id": "retained-trailer",
   "metadata": {},
   "outputs": [
    {
     "data": {
      "text/plain": [
       "<Geographic 2D CRS: EPSG:4326>\n",
       "Name: WGS 84\n",
       "Axis Info [ellipsoidal]:\n",
       "- Lat[north]: Geodetic latitude (degree)\n",
       "- Lon[east]: Geodetic longitude (degree)\n",
       "Area of Use:\n",
       "- name: World.\n",
       "- bounds: (-180.0, -90.0, 180.0, 90.0)\n",
       "Datum: World Geodetic System 1984 ensemble\n",
       "- Ellipsoid: WGS 84\n",
       "- Prime Meridian: Greenwich"
      ]
     },
     "execution_count": 4,
     "metadata": {},
     "output_type": "execute_result"
    }
   ],
   "source": [
    "gdf.crs"
   ]
  },
  {
   "cell_type": "code",
   "execution_count": 5,
   "id": "57d8ce3c",
   "metadata": {},
   "outputs": [
    {
     "data": {
      "text/plain": [
       "<geopandas.plotting.GeoplotAccessor object at 0x00000277F76C4880>"
      ]
     },
     "execution_count": 5,
     "metadata": {},
     "output_type": "execute_result"
    }
   ],
   "source": [
    "gdf.plot"
   ]
  },
  {
   "cell_type": "code",
   "execution_count": 6,
   "id": "e068983d",
   "metadata": {},
   "outputs": [
    {
     "data": {
      "text/plain": [
       "<Axes: >"
      ]
     },
     "execution_count": 6,
     "metadata": {},
     "output_type": "execute_result"
    },
    {
     "data": {
      "image/png": "[encoded data removed]",
      "text/plain": [
       "<Figure size 640x480 with 1 Axes>"
      ]
     },
     "metadata": {},
     "output_type": "display_data"
    }
   ],
   "source": [
    "gdf.shape_area.hist()"
   ]
  },
  {
   "cell_type": "code",
   "execution_count": 13,
   "id": "581b5221-1ff2-477f-b103-367ec97fbc4c",
   "metadata": {},
   "outputs": [
    {
     "data": {
      "text/plain": [
       "ntacode          object\n",
       "shape_area      float64\n",
       "county_fips      object\n",
       "ntaname          object\n",
       "shape_leng      float64\n",
       "boro_name        object\n",
       "boro_code        object\n",
       "geometry       geometry\n",
       "dtype: object"
      ]
     },
     "execution_count": 13,
     "metadata": {},
     "output_type": "execute_result"
    }
   ],
   "source": [
    "gdf.dtypes"
   ]
  },
  {
   "cell_type": "code",
   "execution_count": 7,
   "id": "eb1349ee",
   "metadata": {},
   "outputs": [
    {
     "data": {
      "text/plain": [
       "'77412747.756'"
      ]
     },
     "execution_count": 7,
     "metadata": {},
     "output_type": "execute_result"
    }
   ],
   "source": [
    "gdf.shape_area.to_list()[0]"
   ]
  },
  {
   "cell_type": "code",
   "execution_count": 8,
   "id": "62cfade2",
   "metadata": {},
   "outputs": [
    {
     "name": "stdout",
     "output_type": "stream",
     "text": [
      "<class 'str'>\n"
     ]
    }
   ],
   "source": [
    "print(type(gdf.shape_area.to_list()[0]))"
   ]
  },
  {
   "cell_type": "code",
   "execution_count": 9,
   "id": "9c8cf9de",
   "metadata": {},
   "outputs": [],
   "source": [
    "gdf['shape_area'] = gdf['shape_area'].astype(float)\n",
    "gdf['shape_leng'] = gdf['shape_leng'].astype(float)"
   ]
  },
  {
   "cell_type": "code",
   "execution_count": 10,
   "id": "e4e83fd1",
   "metadata": {},
   "outputs": [
    {
     "data": {
      "text/plain": [
       "77412747.756"
      ]
     },
     "execution_count": 10,
     "metadata": {},
     "output_type": "execute_result"
    }
   ],
   "source": [
    "gdf.shape_area.to_list()[0]"
   ]
  },
  {
   "cell_type": "code",
   "execution_count": 11,
   "id": "5a3cdafc",
   "metadata": {},
   "outputs": [
    {
     "name": "stdout",
     "output_type": "stream",
     "text": [
      "<class 'float'>\n"
     ]
    }
   ],
   "source": [
    "print(type(gdf.shape_area.to_list()[0]))"
   ]
  },
  {
   "cell_type": "code",
   "execution_count": 12,
   "id": "2d8abf8f",
   "metadata": {},
   "outputs": [
    {
     "data": {
      "text/plain": [
       "Text(0.5, 1.0, 'NYC neighborhood length')"
      ]
     },
     "execution_count": 12,
     "metadata": {},
     "output_type": "execute_result"
    },
    {
     "data": {
      "image/png": "[encoded data removed]",
      "text/plain": [
       "<Figure size 1000x500 with 2 Axes>"
      ]
     },
     "metadata": {},
     "output_type": "display_data"
    }
   ],
   "source": [
    "import matplotlib.pyplot as plt\n",
    "\n",
    "f, ax = plt.subplots(1,2,figsize=(10,5))\n",
    "gdf.shape_area.hist(ax=ax[0], bins = 20)\n",
    "gdf.shape_leng.hist(ax=ax[1], bins = 20)\n",
    "ax[0].set_yscale('log')\n",
    "ax[1].set_yscale('log')\n",
    "\n",
    "ax[0].set_title('NYC neighborhood areas', fontsize = 14, pad = 16)\n",
    "ax[1].set_title('NYC neighborhood length', fontsize = 14, pad = 16)\n"
   ]
  },
  {
   "cell_type": "code",
   "execution_count": null,
   "id": "7eecece1-f2bc-4dfe-b5dc-e9d2a9729de7",
   "metadata": {},
   "outputs": [],
   "source": []
  }
 ],
 "metadata": {
  "kernelspec": {
   "display_name": "Python 3 (ipykernel)",
   "language": "python",
   "name": "python3"
  },
  "language_info": {
   "codemirror_mode": {
    "name": "ipython",
    "version": 3
   },
   "file_extension": ".py",
   "mimetype": "text/x-python",
   "name": "python",
   "nbconvert_exporter": "python",
   "pygments_lexer": "ipython3",
   "version": "3.9.13"
  }
 },
 "nbformat": 4,
 "nbformat_minor": 5
}
